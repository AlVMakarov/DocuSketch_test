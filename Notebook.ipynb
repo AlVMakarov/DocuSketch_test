{
 "cells": [
  {
   "cell_type": "code",
   "execution_count": 21,
   "metadata": {},
   "outputs": [],
   "source": [
    "# Import required modules\n",
    "import pandas as pd\n",
    "from drawplots.drawplots import draw\n",
    "import cProfile\n",
    "import pstats"
   ]
  },
  {
   "cell_type": "code",
   "execution_count": 22,
   "metadata": {},
   "outputs": [],
   "source": [
    "# Profiler\n",
    "profiler = cProfile.Profile()\n",
    "profiler.enable()"
   ]
  },
  {
   "cell_type": "code",
   "execution_count": null,
   "metadata": {},
   "outputs": [],
   "source": [
    "# Read our json-file and create dataframe\n",
    "df = pd.read_json('deviation.json')\n",
    "df"
   ]
  },
  {
   "cell_type": "code",
   "execution_count": 28,
   "metadata": {},
   "outputs": [],
   "source": [
    "# Create pandas series with required values to compare columns of our json-file\n",
    "u1 = df['gt_corners']\n",
    "u2 = df['rb_corners']\n",
    "u3 = df['mean']\n",
    "u4 = df['max']\n",
    "u5 =df['min']\n",
    "u6 =df['floor_mean']\n",
    "u7 =df['floor_max']\n",
    "u8 =df['floor_min']\n",
    "u9 =df['ceiling_mean']\n",
    "u10 =df['ceiling_max']\n",
    "u11 =df['ceiling_min']"
   ]
  },
  {
   "cell_type": "code",
   "execution_count": 25,
   "metadata": {},
   "outputs": [],
   "source": [
    "# create drawer obj\n",
    "drawer = draw()"
   ]
  },
  {
   "cell_type": "code",
   "execution_count": null,
   "metadata": {},
   "outputs": [],
   "source": [
    "# draw and save some plots\n",
    "drawer.draw_plots(u6,u9)\n",
    "drawer.draw_plots(u7,u10)"
   ]
  },
  {
   "cell_type": "code",
   "execution_count": null,
   "metadata": {},
   "outputs": [],
   "source": [
    "# disable profiler\n",
    "profiler.disable()\n",
    "stats = pstats.Stats(profiler)\n",
    "stats.sort_stats('cumulative')\n",
    "stats.print_stats()"
   ]
  }
 ],
 "metadata": {
  "kernelspec": {
   "display_name": "docusketch-test-TR7yb0d2-py3.12",
   "language": "python",
   "name": "python3"
  },
  "language_info": {
   "codemirror_mode": {
    "name": "ipython",
    "version": 3
   },
   "file_extension": ".py",
   "mimetype": "text/x-python",
   "name": "python",
   "nbconvert_exporter": "python",
   "pygments_lexer": "ipython3",
   "version": "3.12.6"
  }
 },
 "nbformat": 4,
 "nbformat_minor": 2
}
